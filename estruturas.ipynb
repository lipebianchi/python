{
 "cells": [
  {
   "cell_type": "markdown",
   "metadata": {},
   "source": [
    "# MÉTODOS DE ORDENAÇÃO EM PYTHON"
   ]
  },
  {
   "cell_type": "markdown",
   "metadata": {},
   "source": [
    "### IMPORTANDO AS BIBLIOTECAS NECESSÁRIAS:\n",
    "\n",
    "``` python\n",
    "import random\n",
    "import time\n",
    "```"
   ]
  },
  {
   "cell_type": "markdown",
   "metadata": {},
   "source": [
    "### FUNÇÃO QUE RECEBE COMO PARAMETRO UM VALOR N QUE DEFINIRÁ A QUANTIDADE DE VALORES DO ARRAY ALEATÓRIO QUE SERÁ CRIADO:\n",
    "\n",
    "``` python\n",
    "def randomArray(t):\n",
    "    array = []\n",
    "    for i in range(t):\n",
    "        n = random.randint(0, 1000000)\n",
    "        array.append(n)\n",
    "    return array\n",
    "```"
   ]
  },
  {
   "cell_type": "markdown",
   "metadata": {},
   "source": [
    "### MÉTODO DE ORDENAÇÃO BUBBLE SORT:\n",
    "\n",
    "``` python\n",
    "def bubble_sort(l):\n",
    "    t = len(l)\n",
    "\n",
    "    for i in range(t):\n",
    "        for j in range(0, t - i - 1):\n",
    "            if l[j] > l[j + 1]:\n",
    "                l[j], l[j+1] = l[j+1], l[j]\n",
    "    return l\n",
    "```"
   ]
  },
  {
   "cell_type": "markdown",
   "metadata": {},
   "source": [
    "### MÉTODO DE ORDENAÇÃO SELECTION SORT:\n",
    "\n",
    "``` py\n",
    "def selection_sort(l):\n",
    "    t = len(l)\n",
    "    for i in range(t):\n",
    "        min_Idx = i\n",
    "        for j in range(i + 1, t):\n",
    "            if l[j] < l[min_Idx]:\n",
    "                min_Idx = j\n",
    "        l[i], l[min_Idx] = l[min_Idx], l[i]\n",
    "    return l\n",
    "```"
   ]
  },
  {
   "cell_type": "markdown",
   "metadata": {},
   "source": [
    "### MÉTODO DE ORDENAÇÃO INSERTION SORT:\n",
    "\n",
    "``` py\n",
    "def insertion_sort(l):\n",
    "    for i in range(1, len(l)):\n",
    "        key = l[i]\n",
    "        j = i - 1\n",
    "        while j >= 0 and l[j] > key:\n",
    "            l[j + 1] = l[j]\n",
    "            j -= 1\n",
    "        l[j + 1] = key\n",
    "    return l\n",
    "```"
   ]
  },
  {
   "cell_type": "markdown",
   "metadata": {},
   "source": [
    "### MÉTODO DE ORDENAÇÃO SHELL SORT\n",
    "\n",
    "``` py\n",
    "def shell_sort(l):\n",
    "    n = len(l)\n",
    "    gap = n // 2\n",
    "    while gap > 0:\n",
    "        for i in range(gap, n):\n",
    "            temp = l[i]\n",
    "            j = i\n",
    "            while j >= gap and l[j - gap] > temp:\n",
    "                l[j] = l[j - gap]\n",
    "                j -= gap\n",
    "            l[j] = temp\n",
    "        gap //= 2\n",
    "    return l\n",
    "```"
   ]
  },
  {
   "cell_type": "markdown",
   "metadata": {},
   "source": [
    "### MÉTODO DE ORDENAÇÃO MERGE SORT.\n",
    "\n",
    "``` py\n",
    "def merge(left, right):\n",
    "    result = []\n",
    "    i = j = 0\n",
    "    \n",
    "    while i < len(left) and j < len(right):\n",
    "        if left[i] < right[j]:\n",
    "            result.append(left[i])\n",
    "            i += 1\n",
    "        else:\n",
    "            result.append(right[j])\n",
    "            j += 1\n",
    "\n",
    "    while i < len(left):\n",
    "        result.append(left[i])\n",
    "        i += 1\n",
    "    \n",
    "    while j < len(right):\n",
    "        result.append(right[j])\n",
    "        j += 1\n",
    "    \n",
    "    return result\n",
    "\n",
    "def merge_sort(l):\n",
    "    if len(l) <= 1:\n",
    "        return l\n",
    "    \n",
    "    mid = len(l) // 2\n",
    "    left = merge_sort(l[:mid])\n",
    "    right = merge_sort(l[mid:])\n",
    "    \n",
    "    return merge(left, right)\n",
    "```\n"
   ]
  },
  {
   "cell_type": "markdown",
   "metadata": {},
   "source": [
    "### MÉTODO DE ORDENAÇÃO QUICK_SORT\n",
    "\n",
    "``` py\n",
    "def quick_sort(l):\n",
    "    if len(l) <= 1:\n",
    "        return l  \n",
    "    \n",
    "    pivô = l[-1]\n",
    "    \n",
    "    minors = [x for x in l[:-1] if x <= pivô]\n",
    "    biggers = [x for x in l[:-1] if x > pivô]\n",
    "    \n",
    "    return quick_sort(minors) + [pivô] + quick_sort(biggers)\n",
    "```"
   ]
  },
  {
   "cell_type": "markdown",
   "metadata": {},
   "source": [
    "### FUNÇÃO QUE CALCULA O TEMPO GASTO NO MÉTODO DE ORDENAÇÃO ESCOLHIDO\n",
    "\n",
    "\n",
    "``` py\n",
    "def timeSpend(f, l):\n",
    "    start_time = time.time()\n",
    "    f(list(l))\n",
    "    return time.time() - start_time\n",
    "```"
   ]
  },
  {
   "cell_type": "markdown",
   "metadata": {},
   "source": [
    "### FUNÇÃO QUE RECEBE COMO PARAMETRO AS ESCOLHAS QUE O USUÁRIO FEZ NO MENU ANTERIOR E O TAMANHO DO ARRAY, COM O TAMANHO ELE CRIA UM VETOR ALEATÓRIO, E CHAMA A FUNÇÃO TIME SPEND PARA CALCULAR O TEMPO GASTO NO MÉTODO DE ORDENAÇÃO ESCOLHIDO PELO USUÁRIO \n",
    "\n",
    "``` py\n",
    "def compare(chooses, t):\n",
    "    methods = {\n",
    "        1: bubble_sort,\n",
    "        2: selection_sort,\n",
    "        3: insertion_sort,\n",
    "        4: shell_sort,\n",
    "        5: merge_sort,\n",
    "        6: quick_sort\n",
    "    }\n",
    "\n",
    "    arr = randomArray(t)\n",
    "\n",
    "    print(f\"comparando: {methods[chooses[0]].__name__} com {methods[chooses[1]].__name__}\")\n",
    "\n",
    "    t1 = timeSpend(methods[chooses[0]], arr)\n",
    "    t2 = timeSpend(methods[chooses[1]], arr)\n",
    "\n",
    "    print(f\"metodo: {methods[chooses[0]].__name__} levou {t1:.6f} segundos\")\n",
    "    print(f\"metodo: {methods[chooses[1]].__name__} levou {t2:.6f} segundos\")\n",
    "\n",
    "    if t1 > t2:\n",
    "        print(f\"{methods[chooses[1]].__name__} foi mais rápido\")\n",
    "    elif t1 < t2:\n",
    "        print(f\"{methods[chooses[0]].__name__} foi mais rápido\")\n",
    "    else:\n",
    "        print(\"os métodos levaram o mesmo tempo.\")\n",
    "```"
   ]
  },
  {
   "cell_type": "markdown",
   "metadata": {},
   "source": [
    "### FUNÇÃO RECURSIVA QUE ARMAZENA AS ESCOLHAS DO USUÁRIO, E QUANDO AS ESCOLHAS FOREM IGUAL A 2 ELE CHAMA A FUNÇÃO DE COMPARAR OS MÉTODOS ESCOLHIDOS\n",
    "\n",
    "``` py\n",
    "def menu(chooses, count = 0):\n",
    "    if count == 2:\n",
    "        t = int(input(\"Qual tamanho de array você deseja?\"))\n",
    "        return compare(chooses, t)\n",
    "\n",
    "    print(\"Escolha qual método deseja comparar: \\n1 - Bubble\\n2 - Select\\n3 - Insertion\\n4 - Shell\\n5 - Merge\\n6 - Quick\\n\")\n",
    "\n",
    "    c = int(input())\n",
    "\n",
    "    chooses.append(c)\n",
    "    return menu(chooses, count + 1)\n",
    "```"
   ]
  },
  {
   "cell_type": "markdown",
   "metadata": {},
   "source": [
    "### CÓDIGO MAIN, EM QUE CRIA A LISTA DE ESCOLHAS VAZIAS E CHAMA A FUNÇÃO MENU PARA PODER COMPARAR OS MÉTODOS\n",
    "\n",
    "``` py\n",
    "chooses = []\n",
    "menu(chooses)\n",
    "```"
   ]
  }
 ],
 "metadata": {
  "kernelspec": {
   "display_name": "Python 3",
   "language": "python",
   "name": "python3"
  },
  "language_info": {
   "codemirror_mode": {
    "name": "ipython",
    "version": 3
   },
   "file_extension": ".py",
   "mimetype": "text/x-python",
   "name": "python",
   "nbconvert_exporter": "python",
   "pygments_lexer": "ipython3",
   "version": "3.11.5"
  }
 },
 "nbformat": 4,
 "nbformat_minor": 2
}
