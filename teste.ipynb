{
 "cells": [
  {
   "cell_type": "code",
   "execution_count": 192,
   "metadata": {},
   "outputs": [],
   "source": [
    "import random\n",
    "import time\n"
   ]
  },
  {
   "cell_type": "code",
   "execution_count": 193,
   "metadata": {},
   "outputs": [],
   "source": [
    "def randomArray(t):\n",
    "    array = []\n",
    "    for i in range(t):\n",
    "        n = random.randint(0, 1000000)\n",
    "        array.append(n)\n",
    "    return array"
   ]
  },
  {
   "cell_type": "code",
   "execution_count": 194,
   "metadata": {},
   "outputs": [],
   "source": [
    "def bubble_sort(l):\n",
    "    t = len(l)\n",
    "\n",
    "    for i in range(t):\n",
    "        for j in range(0, t - i - 1):\n",
    "            if l[j] > l[j + 1]:\n",
    "                l[j], l[j+1] = l[j+1], l[j]\n",
    "    return l"
   ]
  },
  {
   "cell_type": "code",
   "execution_count": 195,
   "metadata": {},
   "outputs": [],
   "source": [
    "def selection_sort(l):\n",
    "    t = len(l)\n",
    "    for i in range(t):\n",
    "        min_Idx = i\n",
    "        for j in range(i + 1, t):\n",
    "            if l[j] < l[min_Idx]:\n",
    "                min_Idx = j\n",
    "        l[i], l[min_Idx] = l[min_Idx], l[i]\n",
    "    return l"
   ]
  },
  {
   "cell_type": "code",
   "execution_count": 196,
   "metadata": {},
   "outputs": [],
   "source": [
    "def insertion_sort(l):\n",
    "    for i in range(1, len(l)):\n",
    "        key = l[i]\n",
    "        j = i - 1\n",
    "        while j >= 0 and l[j] > key:\n",
    "            l[j + 1] = l[j]\n",
    "            j -= 1\n",
    "        l[j + 1] = key\n",
    "    return l"
   ]
  },
  {
   "cell_type": "code",
   "execution_count": 197,
   "metadata": {},
   "outputs": [],
   "source": [
    "def shell_sort(l):\n",
    "    n = len(l)\n",
    "    gap = n // 2\n",
    "    while gap > 0:\n",
    "        for i in range(gap, n):\n",
    "            temp = l[i]\n",
    "            j = i\n",
    "            while j >= gap and l[j - gap] > temp:\n",
    "                l[j] = l[j - gap]\n",
    "                j -= gap\n",
    "            l[j] = temp\n",
    "        gap //= 2\n",
    "    return l"
   ]
  },
  {
   "cell_type": "code",
   "execution_count": 198,
   "metadata": {},
   "outputs": [],
   "source": [
    "def merge(left, right):\n",
    "    result = []\n",
    "    i = j = 0\n",
    "    \n",
    "    while i < len(left) and j < len(right):\n",
    "        if left[i] < right[j]:\n",
    "            result.append(left[i])\n",
    "            i += 1\n",
    "        else:\n",
    "            result.append(right[j])\n",
    "            j += 1\n",
    "\n",
    "    while i < len(left):\n",
    "        result.append(left[i])\n",
    "        i += 1\n",
    "    \n",
    "    while j < len(right):\n",
    "        result.append(right[j])\n",
    "        j += 1\n",
    "    \n",
    "    return result\n",
    "    \n",
    "def merge_sort(l):\n",
    "    if len(l) <= 1:\n",
    "        return l\n",
    "    \n",
    "    mid = len(l) // 2\n",
    "    left = merge_sort(l[:mid])\n",
    "    right = merge_sort(l[mid:])\n",
    "    \n",
    "    return merge(left, right)"
   ]
  },
  {
   "cell_type": "code",
   "execution_count": 199,
   "metadata": {},
   "outputs": [],
   "source": [
    "def quick_sort(l):\n",
    "    if len(l) <= 1:\n",
    "        return l  \n",
    "    \n",
    "    pivô = l[-1]\n",
    "    \n",
    "    minors = [x for x in l[:-1] if x <= pivô]\n",
    "    biggers = [x for x in l[:-1] if x > pivô]\n",
    "    \n",
    "    return quick_sort(minors) + [pivô] + quick_sort(biggers)"
   ]
  },
  {
   "cell_type": "code",
   "execution_count": 200,
   "metadata": {},
   "outputs": [],
   "source": [
    "def timeSpent(f, l, show = 0):\n",
    "    start_time = time.time()\n",
    "    arr = f(list(l))\n",
    "    end_time = time.time()\n",
    "    if show == 1:\n",
    "        print(f\"time spent in {f.__name__}: {end_time - start_time:.6f} seconds\")\n",
    "        print(f\"\\nORDERED ARRAY: {arr}\\n\")\n",
    "        return\n",
    "    return end_time - start_time"
   ]
  },
  {
   "cell_type": "code",
   "execution_count": 201,
   "metadata": {},
   "outputs": [],
   "source": [
    "def compare(chooses, t):\n",
    "    methods = {\n",
    "        1: bubble_sort,\n",
    "        2: selection_sort,\n",
    "        3: insertion_sort,\n",
    "        4: shell_sort,\n",
    "        5: merge_sort,\n",
    "        6: quick_sort\n",
    "    }\n",
    "\n",
    "    arr = randomArray(t)\n",
    "\n",
    "    print(f\"comparing: {methods[chooses[0]].__name__} with {methods[chooses[1]].__name__}\")\n",
    "\n",
    "    t1 = timeSpent(methods[chooses[0]], arr)\n",
    "    t2 = timeSpent(methods[chooses[1]], arr)\n",
    "\n",
    "    print(f\"method: {methods[chooses[0]].__name__} took {t1:.6f} segundos\")\n",
    "    print(f\"method: {methods[chooses[1]].__name__} took {t2:.6f} segundos\")\n",
    "\n",
    "    if t1 > t2:\n",
    "        print(f\"{methods[chooses[1]].__name__} was faster\")\n",
    "    elif t1 < t2:\n",
    "        print(f\"{methods[chooses[0]].__name__} was faster\")\n",
    "    else:\n",
    "        print(\"the methods took the same time\")"
   ]
  },
  {
   "cell_type": "code",
   "execution_count": 202,
   "metadata": {},
   "outputs": [],
   "source": [
    "def compare_all():\n",
    "\n",
    "    methods = {\n",
    "        1: bubble_sort,\n",
    "        2: selection_sort,\n",
    "        3: insertion_sort,\n",
    "        4: shell_sort,\n",
    "        5: merge_sort,\n",
    "        6: quick_sort\n",
    "    }\n",
    "\n",
    "    print(\"Choose the size of your array: \")\n",
    "    t = int(input())\n",
    "    l = randomArray(t)\n",
    "    \n",
    "    print(f\"\\nUNORDERED ARRAY: {l}\\n\")\n",
    "\n",
    "    cout = 1\n",
    "    for i, method in methods.items():\n",
    "        if cout == len(methods):\n",
    "            timeSpent(method, l, 1)\n",
    "        else:\n",
    "            time = timeSpent(method, l)\n",
    "            print(f\"time spent in {method.__name__}: {time:.6f} seconds\\n\")\n",
    "        cout+=1"
   ]
  },
  {
   "cell_type": "code",
   "execution_count": 203,
   "metadata": {},
   "outputs": [],
   "source": [
    "def menuCompare(chooses, count = 0):\n",
    "    if count == 2:\n",
    "        t = int(input(\"Choose the size of your array: \"))\n",
    "        return compare(chooses, t)\n",
    "\n",
    "    print(\"Choose which method you want to compare: \\n1 - Bubble Sort\\n2 - Select Sort\\n3 - Insertion Sort\\n4 - Shell Sort\\n5 - Merge Sort\\n6 - Quick Sort\\n\")\n",
    "\n",
    "    c = int(input())\n",
    "\n",
    "    chooses.append(c)\n",
    "    return menuCompare(chooses, count + 1)"
   ]
  },
  {
   "cell_type": "code",
   "execution_count": 204,
   "metadata": {},
   "outputs": [],
   "source": [
    "def menu():\n",
    "    print(\"Choose which method you want to use: \\n1 - Bubble Sort\\n2 - Select Sort\\n3 - Insertion Sort\\n4 - Shell Sort\\n5 - Merge Sort\\n6 - Quick Sort\\n7 - Compare methods\\n8 - Compare all methods\\n\")\n",
    "\n",
    "    methods = {\n",
    "        1: bubble_sort,\n",
    "        2: selection_sort,\n",
    "        3: insertion_sort,\n",
    "        4: shell_sort,\n",
    "        5: merge_sort,\n",
    "        6: quick_sort\n",
    "    }\n",
    "\n",
    "\n",
    "    c = int(input())\n",
    "\n",
    "    if not c == 7 and not c == 8:\n",
    "        print(\"Choose the size of your array\\n\")\n",
    "        t = int(input())\n",
    "        l = randomArray(t)\n",
    "        f = methods[c]\n",
    "        time = timeSpent(f, l)\n",
    "        print(f\"time spent in {f.__name__}: {time:.6f} seconds\")\n",
    "    elif c == 7:\n",
    "        chooses = []\n",
    "        menuCompare(chooses)\n",
    "    else:\n",
    "        compare_all()\n",
    "\n",
    "    "
   ]
  },
  {
   "cell_type": "code",
   "execution_count": 205,
   "metadata": {},
   "source": [
    "menu()"
   ]
  }
 ],
 "metadata": {
  "kernelspec": {
   "display_name": "Python 3",
   "language": "python",
   "name": "python3"
  },
  "language_info": {
   "codemirror_mode": {
    "name": "ipython",
    "version": 3
   },
   "file_extension": ".py",
   "mimetype": "text/x-python",
   "name": "python",
   "nbconvert_exporter": "python",
   "pygments_lexer": "ipython3",
   "version": "3.12.2"
  }
 },
 "nbformat": 4,
 "nbformat_minor": 2
}
