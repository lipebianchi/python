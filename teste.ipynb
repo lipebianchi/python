{
 "cells": [
  {
   "cell_type": "code",
   "execution_count": 17,
   "metadata": {},
   "outputs": [],
   "source": [
    "import random\n",
    "import time\n"
   ]
  },
  {
   "cell_type": "code",
   "execution_count": 18,
   "metadata": {},
   "outputs": [],
   "source": [
    "def randomArray(t):\n",
    "    array = []\n",
    "    for i in range(t):\n",
    "        n = random.randint(0, 1000000)\n",
    "        array.append(n)\n",
    "    return array"
   ]
  },
  {
   "cell_type": "code",
   "execution_count": 19,
   "metadata": {},
   "outputs": [],
   "source": [
    "def bubble_sort(l):\n",
    "    t = len(l)\n",
    "\n",
    "    for i in range(t):\n",
    "        for j in range(0, t - i - 1):\n",
    "            if l[j] > l[j + 1]:\n",
    "                l[j], l[j+1] = l[j+1], l[j]\n",
    "    return l"
   ]
  },
  {
   "cell_type": "code",
   "execution_count": 20,
   "metadata": {},
   "outputs": [],
   "source": [
    "def selection_sort(l):\n",
    "    t = len(l)\n",
    "    for i in range(t):\n",
    "        min_Idx = i\n",
    "        for j in range(i + 1, t):\n",
    "            if l[j] < l[min_Idx]:\n",
    "                min_Idx = j\n",
    "        l[i], l[min_Idx] = l[min_Idx], l[i]\n",
    "    return l"
   ]
  },
  {
   "cell_type": "code",
   "execution_count": 21,
   "metadata": {},
   "outputs": [],
   "source": [
    "def insertion_sort(l):\n",
    "    for i in range(1, len(l)):\n",
    "        key = l[i]\n",
    "        j = i - 1\n",
    "        while j >= 0 and l[j] > key:\n",
    "            l[j + 1] = l[j]\n",
    "            j -= 1\n",
    "        l[j + 1] = key\n",
    "    return l"
   ]
  },
  {
   "cell_type": "code",
   "execution_count": 22,
   "metadata": {},
   "outputs": [],
   "source": [
    "def shell_sort(l):\n",
    "    n = len(l)\n",
    "    gap = n // 2\n",
    "    while gap > 0:\n",
    "        for i in range(gap, n):\n",
    "            temp = l[i]\n",
    "            j = i\n",
    "            while j >= gap and l[j - gap] > temp:\n",
    "                l[j] = l[j - gap]\n",
    "                j -= gap\n",
    "            l[j] = temp\n",
    "        gap //= 2\n",
    "    return l"
   ]
  },
  {
   "cell_type": "code",
   "execution_count": 23,
   "metadata": {},
   "outputs": [],
   "source": [
    "def merge(left, right):\n",
    "    result = []\n",
    "    i = j = 0\n",
    "    \n",
    "    while i < len(left) and j < len(right):\n",
    "        if left[i] < right[j]:\n",
    "            result.append(left[i])\n",
    "            i += 1\n",
    "        else:\n",
    "            result.append(right[j])\n",
    "            j += 1\n",
    "\n",
    "    while i < len(left):\n",
    "        result.append(left[i])\n",
    "        i += 1\n",
    "    \n",
    "    while j < len(right):\n",
    "        result.append(right[j])\n",
    "        j += 1\n",
    "    \n",
    "    return result\n",
    "    \n",
    "def merge_sort(l):\n",
    "    if len(l) <= 1:\n",
    "        return l\n",
    "    \n",
    "    mid = len(l) // 2\n",
    "    left = merge_sort(l[:mid])\n",
    "    right = merge_sort(l[mid:])\n",
    "    \n",
    "    return merge(left, right)"
   ]
  },
  {
   "cell_type": "code",
   "execution_count": 24,
   "metadata": {},
   "outputs": [],
   "source": [
    "def quick_sort(l):\n",
    "    if len(l) <= 1:\n",
    "        return l  \n",
    "    \n",
    "    pivô = l[-1]\n",
    "    \n",
    "    minors = [x for x in l[:-1] if x <= pivô]\n",
    "    biggers = [x for x in l[:-1] if x > pivô]\n",
    "    \n",
    "    return quick_sort(minors) + [pivô] + quick_sort(biggers)"
   ]
  },
  {
   "cell_type": "code",
   "execution_count": 34,
   "metadata": {},
   "outputs": [],
   "source": [
    "def timeSpend(f, l):\n",
    "    start_time = time.time()\n",
    "    f(list(l))\n",
    "    return time.time() - start_time"
   ]
  },
  {
   "cell_type": "code",
   "execution_count": 26,
   "metadata": {},
   "outputs": [],
   "source": [
    "def compare(chooses, t):\n",
    "    methods = {\n",
    "        1: bubble_sort,\n",
    "        2: selection_sort,\n",
    "        3: insertion_sort,\n",
    "        4: shell_sort,\n",
    "        5: merge_sort,\n",
    "        6: quick_sort\n",
    "    }\n",
    "\n",
    "    arr = randomArray(t)\n",
    "\n",
    "    print(f\"comparando: {methods[chooses[0]].__name__} com {methods[chooses[1]].__name__}\")\n",
    "\n",
    "    t1 = timeSpend(methods[chooses[0]], arr)\n",
    "    t2 = timeSpend(methods[chooses[1]], arr)\n",
    "\n",
    "    print(f\"metodo: {methods[chooses[0]].__name__} levou {t1:.6f} segundos\")\n",
    "    print(f\"metodo: {methods[chooses[1]].__name__} levou {t2:.6f} segundos\")\n",
    "\n",
    "    if t1 > t2:\n",
    "        print(f\"{methods[chooses[1]].__name__} foi mais rápido\")\n",
    "    elif t1 < t2:\n",
    "        print(f\"{methods[chooses[0]].__name__} foi mais rápido\")\n",
    "    else:\n",
    "        print(\"os métodos levaram o mesmo tempo.\")"
   ]
  },
  {
   "cell_type": "code",
   "execution_count": 27,
   "metadata": {},
   "outputs": [],
   "source": [
    "def menuCompare(chooses, count = 0):\n",
    "    if count == 2:\n",
    "        t = int(input(\"Qual tamanho de array você deseja?\"))\n",
    "        return compare(chooses, t)\n",
    "\n",
    "    print(\"Escolha qual método deseja comparar: \\n1 - Bubble\\n2 - Select\\n3 - Insertion\\n4 - Shell\\n5 - Merge\\n6 - Quick\\n\")\n",
    "\n",
    "    c = int(input())\n",
    "\n",
    "    chooses.append(c)\n",
    "    return menuCompare(chooses, count + 1)"
   ]
  },
  {
   "cell_type": "code",
   "execution_count": 28,
   "metadata": {},
   "outputs": [],
   "source": [
    "def menu():\n",
    "    print(\"Escolha qual método deseja utilizar: \\n1 - Bubble Sort\\n2 - Select Sort\\n3 - Insertion Sort\\n4 - Shell Sort\\n5 - Merge Sort\\n6 - Quick Sort\\n7 - Comparar métodos\\n\")\n",
    "\n",
    "    methods = {\n",
    "        1: bubble_sort,\n",
    "        2: selection_sort,\n",
    "        3: insertion_sort,\n",
    "        4: shell_sort,\n",
    "        5: merge_sort,\n",
    "        6: quick_sort\n",
    "    }\n",
    "\n",
    "\n",
    "    c = int(input())\n",
    "\n",
    "    if not c == 7:\n",
    "        print(\"Qual tamanho de array você deseja?\\n\")\n",
    "        t = int(input())\n",
    "        l = randomArray(t)\n",
    "        f = methods[c]\n",
    "        timeSpend(f, l)\n",
    "    else:\n",
    "        chooses = []\n",
    "        menuCompare(chooses)\n",
    "\n",
    "    "
   ]
  },
  {
   "cell_type": "code",
   "execution_count": 35,
   "metadata": {},
   "outputs": [
    {
     "name": "stdout",
     "output_type": "stream",
     "text": [
      "Escolha qual método deseja utilizar: \n",
      "1 - Bubble Sort\n",
      "2 - Select Sort\n",
      "3 - Insertion Sort\n",
      "4 - Shell Sort\n",
      "5 - Merge Sort\n",
      "6 - Quick Sort\n",
      "7 - Comparar métodos\n",
      "\n",
      "Qual tamanho de array você deseja?\n",
      "\n"
     ]
    }
   ],
   "source": [
    "menu()"
   ]
  }
 ],
 "metadata": {
  "kernelspec": {
   "display_name": "Python 3",
   "language": "python",
   "name": "python3"
  },
  "language_info": {
   "codemirror_mode": {
    "name": "ipython",
    "version": 3
   },
   "file_extension": ".py",
   "mimetype": "text/x-python",
   "name": "python",
   "nbconvert_exporter": "python",
   "pygments_lexer": "ipython3",
   "version": "3.11.5"
  }
 },
 "nbformat": 4,
 "nbformat_minor": 2
}
